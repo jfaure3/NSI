{
 "cells": [
  {
   "cell_type": "markdown",
   "metadata": {},
   "source": [
    "# $k$ plus proches voisins ($k$ nearest neighbours)\n",
    "## appliqué à l'affectation des joueurs de rugby"
   ]
  },
  {
   "cell_type": "code",
   "execution_count": 2,
   "metadata": {},
   "outputs": [],
   "source": [
    "import doctest #permet d'automatiser des tests unitaires"
   ]
  },
  {
   "cell_type": "markdown",
   "metadata": {},
   "source": [
    "### Structure de la base de données\n",
    "La bibliothèque `pandas` permet (entre autre) de faire des réquêtes sur une base de données.\n",
    "\n",
    "Ici la base est simple, c'est une table au format `.csv`\n",
    "\n",
    "- l'attribut `.shape` contient le tuple (nb lignes, nb colonnes) de la table\n",
    "- la méthode `.head(10)` affiche les 10 premières lignes de la table\n",
    "- la fonction `set` transforme une liste (`list`) en ensemble (`set`), ce qui a pour effet de supprimer les redondances.\n",
    "- `joueurs[\"Poste\"]` est une projection de la table (on ne garde que la colonne `\"Poste\"`)\n"
   ]
  },
  {
   "cell_type": "code",
   "execution_count": 25,
   "metadata": {},
   "outputs": [
    {
     "name": "stdout",
     "output_type": "stream",
     "text": [
      "(4607, 11)\n",
      "   Unnamed: 0   ID           Nom                                  Url  \\\n",
      "0         NaN   10  ZIRAKASHVILI  /joueurs/davit-zirakashvili-10.html   \n",
      "1         NaN   13       JACQUET        /joueurs/loic-jacquet-13.html   \n",
      "2         NaN   26         JAMES         /joueurs/brock-james-26.html   \n",
      "3         NaN   30      COMBEZOU     /joueurs/thomas-combezou-30.html   \n",
      "4         NaN   76      DOMENECH     /joueurs/amedee-domenech-76.html   \n",
      "5         NaN   91          BÉCO       /joueurs/aurelien-beco-91.html   \n",
      "6         NaN   93        CHOULY       /joueurs/damien-chouly-93.html   \n",
      "7         NaN  116      PALISSON    /joueurs/alexis-palisson-116.html   \n",
      "8         NaN  148      MIGNARDI    /joueurs/arnaud-mignardi-148.html   \n",
      "9         NaN  204       IGUINIZ      /joueurs/aretz-iguiniz-204.html   \n",
      "\n",
      "     Prénom   Âge  Taille  Poids Nationalité       Poste Unnamed: 10  \n",
      "0     Davit  36.0   179.0  120.0     Géorgie      Pilier         [X]  \n",
      "1      Loïc  35.0   198.0  117.0      France  2ème ligne         [X]  \n",
      "2     Brock  38.0   179.0   89.0   Australie   Ouverture         [X]  \n",
      "3    Thomas  33.0   184.0   94.0      France      Centre         [X]  \n",
      "4    Amédée  35.0   182.0   98.0      France  3ème ligne         [X]  \n",
      "5  Aurélien  34.0   192.0   98.0      France  3ème ligne         [X]  \n",
      "6    Damien  34.0   192.0  106.0      France  3ème ligne         [X]  \n",
      "7    Alexis  32.0   177.0   85.0      France      Ailier         [X]  \n",
      "8    Arnaud  33.0   180.0   90.0      France      Centre         [X]  \n",
      "9     Aretz  36.0   188.0  114.0      France      Pilier         [X]  \n",
      "{'Talonneur', '2ème ligne', 'Ouverture', 'Pilier', 'Mêlée', 'Ailier', 'Arrière', 'Centre', '3ème ligne'}\n"
     ]
    }
   ],
   "source": [
    "%matplotlib inline\n",
    "import pandas\n",
    "import matplotlib.pyplot as plt\n",
    "joueurs=pandas.read_csv(\"joueurs_rugby.csv\")\n",
    "print(joueurs.shape)\n",
    "print(joueurs.head(10))\n",
    "print(set(joueurs[\"Poste\"]))"
   ]
  },
  {
   "cell_type": "markdown",
   "metadata": {},
   "source": [
    "### Affichage du nuage de points\n",
    "\n",
    "Nous allons afficher trois nuages de points : les piliers, les 2ème ligne et les arrières.\n",
    "\n",
    "Ces postes correspondent à des profils de joueurs très spécifiques, ce qui se traduit sur le graphique par des nuages clairement identifiés."
   ]
  },
  {
   "cell_type": "code",
   "execution_count": 27,
   "metadata": {},
   "outputs": [
    {
     "data": {
      "image/png": "[encoded data removed]",
      "text/plain": [
       "<Figure size 432x288 with 1 Axes>"
      ]
     },
     "metadata": {
      "needs_background": "light"
     },
     "output_type": "display_data"
    }
   ],
   "source": [
    "for pst in {\"Pilier\",\"2ème ligne\",\"Arrière\"}:\n",
    "    plt.scatter(joueurs.loc[joueurs[\"Poste\"]==pst,\"Taille\"],\n",
    "                joueurs.loc[joueurs[\"Poste\"]==pst,\"Poids\"], \n",
    "                marker='.', alpha=0.2, label=pst)\n",
    "plt.legend()\n",
    "plt.show()"
   ]
  },
  {
   "cell_type": "markdown",
   "metadata": {},
   "source": [
    "### Préparation des listes\n",
    "On extrait de la table les rugbymans jouant à ces trois postes pour les ranger dans des listes"
   ]
  },
  {
   "cell_type": "code",
   "execution_count": 28,
   "metadata": {},
   "outputs": [
    {
     "name": "stdout",
     "output_type": "stream",
     "text": [
      "[179.0, 198.0, 188.0] [120.0, 117.0, 114.0] ['Pilier', '2ème ligne', 'Pilier']\n"
     ]
    }
   ],
   "source": [
    "taille = list(joueurs.loc[joueurs['Poste'].isin({\"Pilier\",\"2ème ligne\",\"Arrière\"}),\"Taille\"])\n",
    "poids = list(joueurs.loc[joueurs['Poste'].isin({\"Pilier\",\"2ème ligne\",\"Arrière\"}),\"Poids\"])\n",
    "étiquette = list(joueurs.loc[joueurs['Poste'].isin({\"Pilier\",\"2ème ligne\",\"Arrière\"}),\"Poste\"])\n",
    "print(taille[:3], poids[:3], étiquette[:3])"
   ]
  },
  {
   "cell_type": "markdown",
   "metadata": {},
   "source": [
    "### Séparation des données en un jeu de test et un jeu d'apprentissage\n",
    "**à faire** : conserver les 3/4 des listes dans des listes nommées `taille_train, poids_train...` (entrainement)\n",
    "et le quart restant dans des listes nommées`*_test`\n",
    "\n",
    "Ainsi l'apprentissage supervisé sera fait sur une partie de la liste (`*_train`), et les tests, sur une autre partie(`*_test`)."
   ]
  },
  {
   "cell_type": "code",
   "execution_count": 30,
   "metadata": {},
   "outputs": [],
   "source": [
    "taille_train = \n",
    "poids_train = \n",
    "étiquette_train = \n",
    "taille_test = \n",
    "poids_test = \n",
    "étiquette_test = "
   ]
  },
  {
   "cell_type": "markdown",
   "metadata": {},
   "source": [
    "### Fonction `distance`\n",
    "**à faire :** Fonction de calcul de distance dans le plan $(taille \\times poids)$"
   ]
  },
  {
   "cell_type": "code",
   "execution_count": 34,
   "metadata": {},
   "outputs": [],
   "source": [
    "def distance(A, B):\n",
    "    \"\"\"Calcul la distance entre les points A et B\n",
    "    >>> distance([1,2],[4,6])\n",
    "    5.0\"\"\"\n",
    "    \n",
    "    \n",
    "    return \n",
    "    \n",
    "doctest.run_docstring_examples(distance, globals())        "
   ]
  },
  {
   "cell_type": "markdown",
   "metadata": {},
   "source": [
    "### Algorithme des $k$ plus proches voisins\n",
    "**à faire** : une fonction qui renvoie les étiquettes des k plus proches voisins au sens de la distance définie plus haut."
   ]
  },
  {
   "cell_type": "code",
   "execution_count": 36,
   "metadata": {},
   "outputs": [],
   "source": [
    "def knn(k, point, taille, poids, étiquette):\n",
    "    \"\"\"renvoie les étiquettes des k plus proches joueurs de 'point'\n",
    "    >>> knn(10, [180,80], taille_train, poids_train, étiquette_train)\n",
    "    ['Arrière', 'Arrière', 'Arrière', 'Arrière', 'Arrière', 'Arrière', 'Arrière', 'Arrière', 'Arrière', 'Arrière']\"\"\"\n",
    "\n",
    "doctest.run_docstring_examples(knn, globals())     "
   ]
  }
 ],
 "metadata": {
  "kernelspec": {
   "display_name": "Python 3",
   "language": "python",
   "name": "python3"
  },
  "language_info": {
   "codemirror_mode": {
    "name": "ipython",
    "version": 3
   },
   "file_extension": ".py",
   "mimetype": "text/x-python",
   "name": "python",
   "nbconvert_exporter": "python",
   "pygments_lexer": "ipython3",
   "version": "3.7.3"
  },
  "varInspector": {
   "cols": {
    "lenName": 16,
    "lenType": 16,
    "lenVar": 40
   },
   "kernels_config": {
    "python": {
     "delete_cmd_postfix": "",
     "delete_cmd_prefix": "del ",
     "library": "var_list.py",
     "varRefreshCmd": "print(var_dic_list())"
    },
    "r": {
     "delete_cmd_postfix": ") ",
     "delete_cmd_prefix": "rm(",
     "library": "var_list.r",
     "varRefreshCmd": "cat(var_dic_list()) "
    }
   },
   "types_to_exclude": [
    "module",
    "function",
    "builtin_function_or_method",
    "instance",
    "_Feature"
   ],
   "window_display": false
  }
 },
 "nbformat": 4,
 "nbformat_minor": 2
}
