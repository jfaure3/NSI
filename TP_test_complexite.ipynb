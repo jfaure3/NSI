{
 "cells": [
  {
   "cell_type": "markdown",
   "metadata": {},
   "source": [
    "<div style=\"text-align: center;\">\n",
    "\n",
    "# TP tests et complexité\n",
    "    \n",
    "</div>"
   ]
  },
  {
   "cell_type": "markdown",
   "metadata": {},
   "source": [
    "## 1.Tests unitaires"
   ]
  },
  {
   "cell_type": "markdown",
   "metadata": {},
   "source": [
    "### 1.1. fonction `compte_nb_chiffres`"
   ]
  },
  {
   "cell_type": "markdown",
   "metadata": {},
   "source": [
    "<div style=\"font-size:1.2em;border-left:10px solid #aaa;border-bottom:10px solid #aaa;padding:10px;\">\n",
    "    \n",
    "1.1.1. Dans la cellule ci dessous vous allez créer la fonction `compte_nb_chiffres` qui renvoie le nombre de chiffres d'un nombre entier en écriture décimale.\n",
    "\n",
    "1.1.2. Dans la cellule d'après, complétez la fonction `test1` en ajoutant une batterie de tests judicieusement choisis à l'aide de la commande `assert`.\n",
    "\n",
    "1.1.3. Finalement vous échangerez vos tests (copié collé dans Discord) pour vous assurer de la robustesse de votre fonction. Vous la ferez évoluer si elle échoue.\n",
    "\n",
    "</div>"
   ]
  },
  {
   "cell_type": "code",
   "execution_count": null,
   "metadata": {},
   "outputs": [],
   "source": [
    "def compte_nb_chiffres(n):\n",
    "    \"\"\"renvoie le nombre de chiffres d'un nombre entier\"\"\"\n",
    "    ...\n",
    "    return..."
   ]
  },
  {
   "cell_type": "code",
   "execution_count": null,
   "metadata": {},
   "outputs": [],
   "source": [
    "def test1():\n",
    "    \"\"\"tests unitaires sur a fonction compte_nb_chiffres\"\"\"\n",
    "    assert compte_nb_chiffres(10) == 2, 'test invalide'\n",
    "    assert ..."
   ]
  },
  {
   "cell_type": "markdown",
   "metadata": {},
   "source": [
    "### 1.2. Fonction `taille_plus_gde_sequence`"
   ]
  },
  {
   "cell_type": "markdown",
   "metadata": {},
   "source": [
    "<div style=\"font-size:1.2em;border-left:10px solid #aaa;border-bottom:10px solid #aaa;padding:10px;\">\n",
    "    \n",
    "Mêmes consignes qu'au 1.1. mais avec la fonction `taille_plus_gde_sequence` qui renvoie la taille de la plus grande séquence de l'élément `e` dans l'indexable `L` où `L` est une liste ou une chaine de caractères\n",
    "\n",
    "</div>"
   ]
  },
  {
   "cell_type": "code",
   "execution_count": null,
   "metadata": {},
   "outputs": [],
   "source": [
    "def taille_plus_gde_sequence(e, L):\n",
    "    \"\"\"renvoie la taille de la plus grande séquence de e dans L\"\"\"\n",
    "    ...\n",
    "    return ..."
   ]
  },
  {
   "cell_type": "code",
   "execution_count": null,
   "metadata": {},
   "outputs": [],
   "source": [
    "def test2():\n",
    "    \"\"\"tests unitaires sur la fonction taille_plus_gde_sequence\"\"\"\n",
    "    assert taille_plus_gde_sequence('s', 'shjksshjksss') == 3, 'test invalide'\n",
    "    assert ..."
   ]
  },
  {
   "cell_type": "markdown",
   "metadata": {},
   "source": [
    "### 1.3. Fonction `sont_presents`"
   ]
  },
  {
   "cell_type": "markdown",
   "metadata": {},
   "source": [
    "<div style=\"font-size:1.2em;border-left:10px solid #aaa;border-bottom:10px solid #aaa;padding:10px;\">\n",
    "    \n",
    "Mêmes consignes qu'au 1.1. mais avec la fonction `sont_presents` qui renvoie si deux éléments `a` et `b` sont présents **dans cet ordre** dans l'indexable `L` où `L` est une liste ou une chaine de caractères\n",
    "\n",
    "</div>"
   ]
  },
  {
   "cell_type": "code",
   "execution_count": null,
   "metadata": {},
   "outputs": [],
   "source": [
    "def sont_presents(a, b, L):\n",
    "    \"\"\"renvoie si les éléments a et b sont présents dans L dans cet ordre\"\"\"\n",
    "    ...\n",
    "    return ..."
   ]
  },
  {
   "cell_type": "code",
   "execution_count": null,
   "metadata": {},
   "outputs": [],
   "source": [
    "def test3():\n",
    "    \"\"\"tests unitaires sur la fonction sont_presents\"\"\"\n",
    "    assert sont_presents(1, 2, [5,1,3,2,7]) == True, 'test invalide'\n",
    "    assert ..."
   ]
  },
  {
   "cell_type": "markdown",
   "metadata": {},
   "source": [
    "### 1.4. Fonction `presence_doublon`"
   ]
  },
  {
   "cell_type": "markdown",
   "metadata": {},
   "source": [
    "<div style=\"font-size:1.2em;border-left:10px solid #aaa;border-bottom:10px solid #aaa;padding:10px;\">\n",
    "    \n",
    "Mêmes consignes qu'au 1.1. mais avec la fonction `presence_doublon` qui renvoie s'il y a des doublons dans l'indexable `L` où `L` est une liste ou une chaine de caractères\n",
    "\n",
    "</div>"
   ]
  },
  {
   "cell_type": "code",
   "execution_count": null,
   "metadata": {},
   "outputs": [],
   "source": [
    "def presence_doublon(L):\n",
    "    \"\"\"renvoie s'il y a des doublons dans L\"\"\"\n",
    "    ...\n",
    "    return ..."
   ]
  },
  {
   "cell_type": "code",
   "execution_count": null,
   "metadata": {},
   "outputs": [],
   "source": [
    "def test4():\n",
    "    \"\"\"tests unitaires sur la fonction presence_doublon\"\"\"\n",
    "    assert presence_doublon('Bonjour') == True, 'test invalide'\n",
    "    assert ...    "
   ]
  },
  {
   "cell_type": "markdown",
   "metadata": {},
   "source": [
    "## 2. Complexité"
   ]
  },
  {
   "cell_type": "markdown",
   "metadata": {},
   "source": [
    "### 2.1 Situation élémentaire"
   ]
  },
  {
   "cell_type": "markdown",
   "metadata": {},
   "source": [
    "<div style=\"font-size:1.2em;border-left:10px solid #aaa;border-bottom:10px solid #aaa;padding:10px;\">\n",
    "    \n",
    "2.1.1 Exécuter les deux cellules ci-dessous et interprétez le résultat\n",
    "\n",
    "2.1.2 Compter le nombres d'\"opérations\" effectuées par l'appel `foo1(100)` et `foo2(100)`. Mettez ces nombres en perspective avec les résultats du 2.1.1.\n",
    "\n",
    "</div>"
   ]
  },
  {
   "cell_type": "code",
   "execution_count": null,
   "metadata": {},
   "outputs": [],
   "source": [
    "def foo1(n):\n",
    "    c = 0\n",
    "    for _ in range(n):\n",
    "        c = c + 5\n",
    "    return c\n",
    "\n",
    "def foo2(n):\n",
    "    return 5 * n"
   ]
  },
  {
   "cell_type": "code",
   "execution_count": null,
   "metadata": {},
   "outputs": [],
   "source": [
    "print(foo1(10), foo2(10))\n",
    "%timeit foo1(100)\n",
    "%timeit foo2(100)"
   ]
  },
  {
   "cell_type": "markdown",
   "metadata": {},
   "source": [
    "### 2.2 Situations concrètes "
   ]
  },
  {
   "cell_type": "markdown",
   "metadata": {},
   "source": [
    "<div style=\"font-size:1.2em;border-left:10px solid #aaa;border-bottom:10px solid #aaa;padding:10px;\">\n",
    "    \n",
    "2.2.1 Partagez vos fonctions `presence_doublon` et `sont_presents` testées dans le 1. et mesurez leur vitesse d'exécution avec la commande magique `%timeit`.\n",
    "\n",
    "2.2.2 Compter le nombres d'\"opérations\" effectuées par chacune d'elles sur un exemple précis, puis mettez ces nombres en perspective avec les résultats du 2.2.1.\n",
    "\n",
    "</div>"
   ]
  },
  {
   "cell_type": "code",
   "execution_count": null,
   "metadata": {},
   "outputs": [],
   "source": []
  },
  {
   "cell_type": "code",
   "execution_count": null,
   "metadata": {},
   "outputs": [],
   "source": []
  }
 ],
 "metadata": {
  "kernelspec": {
   "display_name": "Python 3",
   "language": "python",
   "name": "python3"
  },
  "language_info": {
   "codemirror_mode": {
    "name": "ipython",
    "version": 3
   },
   "file_extension": ".py",
   "mimetype": "text/x-python",
   "name": "python",
   "nbconvert_exporter": "python",
   "pygments_lexer": "ipython3",
   "version": "3.7.3"
  }
 },
 "nbformat": 4,
 "nbformat_minor": 2
}
