{
 "cells": [
  {
   "cell_type": "markdown",
   "metadata": {},
   "source": [
    "<div style=\"text-align: center;\">\n",
    "\n",
    "# TP tests et complexité\n",
    "    \n",
    "</div>"
   ]
  },
  {
   "cell_type": "markdown",
   "metadata": {},
   "source": [
    "## 1.Tests unitaires"
   ]
  },
  {
   "cell_type": "markdown",
   "metadata": {},
   "source": [
    "### 1.1. fonction `compte_nb_chiffres`"
   ]
  },
  {
   "cell_type": "markdown",
   "metadata": {},
   "source": [
    "<div style=\"font-size:1.2em;border-left:10px solid #aaa;border-bottom:10px solid #aaa;padding:10px;\">\n",
    "    \n",
    "1.1.1. Dans la cellule ci dessous vous allez créer la fonction `compte_nb_chiffres` qui renvoie le nombre de chiffres d'un nombre entier en écriture décimale.\n",
    "\n",
    "</div>"
   ]
  },
  {
   "cell_type": "markdown",
   "metadata": {},
   "source": [
    "<div style=\"font-size:1.2em;border-left:10px solid #aaa;border-bottom:10px solid #aaa;padding:10px;\">\n",
    "\n",
    "1.1.2. Dans la cellule d'après, complétez la fonction `test1` en ajoutant une batterie de tests judicieusement choisis à l'aide de la commande `assert`.\n",
    "</div>"
   ]
  },
  {
   "cell_type": "markdown",
   "metadata": {},
   "source": [
    "<div style=\"font-size:1.2em;border-left:10px solid #aaa;border-bottom:10px solid #aaa;padding:10px;\">\n",
    " \n",
    "1.1.3. Finalement vous échangerez vos tests (copié collé dans Discord) pour vous assurer de la robustesse de votre fonction. Vous la ferez évoluer si elle échoue.\n",
    "\n",
    "</div>"
   ]
  },
  {
   "cell_type": "code",
   "execution_count": 1,
   "metadata": {},
   "outputs": [],
   "source": [
    "def compte_nb_chiffres(n):\n",
    "    \"\"\"renvoie le nombre de chiffres d'un nombre entier\"\"\"\n",
    "    ..."
   ]
  },
  {
   "cell_type": "code",
   "execution_count": 2,
   "metadata": {},
   "outputs": [
    {
     "ename": "AssertionError",
     "evalue": "test invalide",
     "output_type": "error",
     "traceback": [
      "\u001b[0;31m---------------------------------------------------------------------------\u001b[0m",
      "\u001b[0;31mAssertionError\u001b[0m                            Traceback (most recent call last)",
      "\u001b[0;32m<ipython-input-2-995cd8d40d21>\u001b[0m in \u001b[0;36m<module>\u001b[0;34m()\u001b[0m\n\u001b[1;32m      3\u001b[0m     \u001b[0;32massert\u001b[0m \u001b[0mcompte_nb_chiffres\u001b[0m\u001b[0;34m(\u001b[0m\u001b[0;36m10\u001b[0m\u001b[0;34m)\u001b[0m \u001b[0;34m==\u001b[0m \u001b[0;36m2\u001b[0m\u001b[0;34m,\u001b[0m \u001b[0;34m'test invalide'\u001b[0m\u001b[0;34m\u001b[0m\u001b[0;34m\u001b[0m\u001b[0m\n\u001b[1;32m      4\u001b[0m     \u001b[0;32massert\u001b[0m \u001b[0;34m...\u001b[0m\u001b[0;34m\u001b[0m\u001b[0;34m\u001b[0m\u001b[0m\n\u001b[0;32m----> 5\u001b[0;31m \u001b[0mtest1\u001b[0m\u001b[0;34m(\u001b[0m\u001b[0;34m)\u001b[0m\u001b[0;34m\u001b[0m\u001b[0;34m\u001b[0m\u001b[0m\n\u001b[0m",
      "\u001b[0;32m<ipython-input-2-995cd8d40d21>\u001b[0m in \u001b[0;36mtest1\u001b[0;34m()\u001b[0m\n\u001b[1;32m      1\u001b[0m \u001b[0;32mdef\u001b[0m \u001b[0mtest1\u001b[0m\u001b[0;34m(\u001b[0m\u001b[0;34m)\u001b[0m\u001b[0;34m:\u001b[0m\u001b[0;34m\u001b[0m\u001b[0;34m\u001b[0m\u001b[0m\n\u001b[1;32m      2\u001b[0m     \u001b[0;34m\"\"\"tests unitaires sur a fonction compte_nb_chiffres\"\"\"\u001b[0m\u001b[0;34m\u001b[0m\u001b[0;34m\u001b[0m\u001b[0m\n\u001b[0;32m----> 3\u001b[0;31m     \u001b[0;32massert\u001b[0m \u001b[0mcompte_nb_chiffres\u001b[0m\u001b[0;34m(\u001b[0m\u001b[0;36m10\u001b[0m\u001b[0;34m)\u001b[0m \u001b[0;34m==\u001b[0m \u001b[0;36m2\u001b[0m\u001b[0;34m,\u001b[0m \u001b[0;34m'test invalide'\u001b[0m\u001b[0;34m\u001b[0m\u001b[0;34m\u001b[0m\u001b[0m\n\u001b[0m\u001b[1;32m      4\u001b[0m     \u001b[0;32massert\u001b[0m \u001b[0;34m...\u001b[0m\u001b[0;34m\u001b[0m\u001b[0;34m\u001b[0m\u001b[0m\n\u001b[1;32m      5\u001b[0m \u001b[0mtest1\u001b[0m\u001b[0;34m(\u001b[0m\u001b[0;34m)\u001b[0m\u001b[0;34m\u001b[0m\u001b[0;34m\u001b[0m\u001b[0m\n",
      "\u001b[0;31mAssertionError\u001b[0m: test invalide"
     ]
    }
   ],
   "source": [
    "def test1():\n",
    "    \"\"\"tests unitaires sur a fonction compte_nb_chiffres\"\"\"\n",
    "    assert compte_nb_chiffres(10) == 2, 'test invalide'\n",
    "    assert ...\n",
    "test1()"
   ]
  },
  {
   "cell_type": "markdown",
   "metadata": {},
   "source": [
    "### 1.2. Fonction `taille_plus_gde_sequence`"
   ]
  },
  {
   "cell_type": "markdown",
   "metadata": {},
   "source": [
    "<div style=\"font-size:1.2em;border-left:10px solid #aaa;border-bottom:10px solid #aaa;padding:10px;\">\n",
    "    \n",
    "Mêmes consignes qu'au 1.1. mais avec la fonction `taille_plus_gde_sequence` qui renvoie la taille de la plus grande séquence de l'élément `e` dans l'indexable `L` où `L` est une liste ou une chaine de caractères\n",
    "\n",
    "</div>"
   ]
  },
  {
   "cell_type": "code",
   "execution_count": null,
   "metadata": {},
   "outputs": [],
   "source": [
    "def taille_plus_gde_sequence(e, L):\n",
    "    \"\"\"renvoie la taille de la plus grande séquence de e dans L\"\"\"\n",
    "    ...\n",
    "    return m"
   ]
  },
  {
   "cell_type": "code",
   "execution_count": null,
   "metadata": {},
   "outputs": [],
   "source": [
    "def test2():\n",
    "    \"\"\"tests unitaires sur la fonction taille_plus_gde_sequence\"\"\"\n",
    "    assert taille_plus_gde_sequence('s', 'shjksshjksss') == 3, 'test invalide'\n",
    "    assert ...\n",
    "test2()"
   ]
  },
  {
   "cell_type": "markdown",
   "metadata": {},
   "source": [
    "### 1.3. Fonction `sont_presents`"
   ]
  },
  {
   "cell_type": "markdown",
   "metadata": {},
   "source": [
    "<div style=\"font-size:1.2em;border-left:10px solid #aaa;border-bottom:10px solid #aaa;padding:10px;\">\n",
    "    \n",
    "Mêmes consignes qu'au 1.1. mais avec la fonction `sont_presents` qui renvoie si deux éléments `a` et `b` sont présents **dans cet ordre** dans l'indexable `L` où `L` est une liste ou une chaine de caractères\n",
    "\n",
    "</div>"
   ]
  },
  {
   "cell_type": "code",
   "execution_count": null,
   "metadata": {},
   "outputs": [],
   "source": [
    "def sont_presents(a, b, L):\n",
    "    \"\"\"renvoie si les éléments a et b sont présents dans L dans cet ordre\"\"\"\n",
    "    ..."
   ]
  },
  {
   "cell_type": "code",
   "execution_count": null,
   "metadata": {},
   "outputs": [],
   "source": [
    "def test3():\n",
    "    \"\"\"tests unitaires sur la fonction sont_presents\"\"\"\n",
    "    assert sont_presents(1, 2, [5,1,3,2,7]) == True, 'test invalide'\n",
    "    assert ...\n",
    "test3()"
   ]
  },
  {
   "cell_type": "markdown",
   "metadata": {},
   "source": [
    "### 1.4. Fonction `presence_doublon`"
   ]
  },
  {
   "cell_type": "markdown",
   "metadata": {},
   "source": [
    "<div style=\"font-size:1.2em;border-left:10px solid #aaa;border-bottom:10px solid #aaa;padding:10px;\">\n",
    "    \n",
    "Mêmes consignes qu'au 1.1. mais avec la fonction `presence_doublon` qui renvoie s'il y a des doublons dans l'indexable `L` où `L` est une liste ou une chaine de caractères\n",
    "\n",
    "</div>"
   ]
  },
  {
   "cell_type": "code",
   "execution_count": null,
   "metadata": {},
   "outputs": [],
   "source": [
    "def presence_doublon(L):\n",
    "    \"\"\"renvoie s'il y a des doublons dans L\"\"\"\n",
    "    ..."
   ]
  },
  {
   "cell_type": "code",
   "execution_count": null,
   "metadata": {},
   "outputs": [],
   "source": [
    "def test4():\n",
    "    \"\"\"tests unitaires sur la fonction presence_doublon\"\"\"\n",
    "    assert presence_doublon('Bonjour') == True, 'test invalide'\n",
    "    assert ...\n",
    "test4()"
   ]
  },
  {
   "cell_type": "markdown",
   "metadata": {},
   "source": [
    "## 2. Complexité"
   ]
  },
  {
   "cell_type": "markdown",
   "metadata": {},
   "source": [
    "### 2.1 Situation élémentaire"
   ]
  },
  {
   "cell_type": "markdown",
   "metadata": {},
   "source": [
    "<div style=\"font-size:1.2em;border-left:10px solid #aaa;border-bottom:10px solid #aaa;padding:10px;\">\n",
    "    \n",
    "2.1.1. Exécutez les deux cellules ci-dessous et interprétez le résultat\n",
    "\n",
    "</div>"
   ]
  },
  {
   "cell_type": "markdown",
   "metadata": {},
   "source": [
    "<div style=\"font-size:1.2em;border-left:10px solid #aaa;border-bottom:10px solid #aaa;padding:10px;\">\n",
    "    \n",
    "2.1.2. Comptez le nombres d'\"opérations\" effectuées par l'appel `foo1(100)` et `foo2(100)`. Mettez ces nombres en perspective avec les résultats du 2.1.1.\n",
    "\n",
    "</div>"
   ]
  },
  {
   "cell_type": "markdown",
   "metadata": {},
   "source": [
    "<div style=\"font-size:1.2em;border-left:10px solid #aaa;border-bottom:10px solid #aaa;padding:10px;\">\n",
    "    \n",
    "2.1.3. Exécutez la cellule contenant la fonction `chronometrer()`, comparez les deux graphiques obtenus en les mettant en perspective des réponses précédentes.\n",
    "</div>"
   ]
  },
  {
   "cell_type": "code",
   "execution_count": null,
   "metadata": {},
   "outputs": [],
   "source": [
    "def foo1(n):\n",
    "    c = 0\n",
    "    for _ in range(n):\n",
    "        c = c + 5\n",
    "    return c\n",
    "\n",
    "def foo2(n):\n",
    "    return 5 * n"
   ]
  },
  {
   "cell_type": "code",
   "execution_count": null,
   "metadata": {},
   "outputs": [],
   "source": [
    "print(foo1(10), foo2(10))\n",
    "%timeit foo1(1000)\n",
    "%timeit foo2(1000)"
   ]
  },
  {
   "cell_type": "code",
   "execution_count": null,
   "metadata": {},
   "outputs": [],
   "source": [
    "def chronometrer(f):\n",
    "    from time import time\n",
    "    temps = []\n",
    "    X = []\n",
    "    for n in range(100):\n",
    "        x=n*1000\n",
    "        debut = time()\n",
    "        f(x)\n",
    "        temps.append(time()-debut)\n",
    "        X.append(x)\n",
    "    return X, temps\n",
    "\n",
    "%matplotlib inline\n",
    "import matplotlib.pyplot as plt\n",
    "plt.figure(figsize=(15,7))\n",
    "plt.grid(True)\n",
    "\n",
    "X, temps = chronometrer(foo1)\n",
    "plt.subplot(121)\n",
    "plt.plot(X, temps,'-')\n",
    "plt.title('fonction foo1')\n",
    "plt.ylabel('temps')\n",
    "plt.xlabel('paramètre')\n",
    "\n",
    "X, temps = chronometrer(foo2)\n",
    "plt.subplot(122)\n",
    "plt.plot(X, temps,'-')\n",
    "plt.title('fonction foo2')\n",
    "plt.ylabel('temps')\n",
    "plt.xlabel('paramètre')\n",
    "\n",
    "plt.show()"
   ]
  },
  {
   "cell_type": "markdown",
   "metadata": {},
   "source": [
    "### 2.2. Situations concrètes "
   ]
  },
  {
   "cell_type": "markdown",
   "metadata": {},
   "source": [
    "<div style=\"font-size:1.2em;border-left:10px solid #aaa;border-bottom:10px solid #aaa;padding:10px;\">\n",
    "    \n",
    "2.2.1. Partagez vos fonctions `presence_doublon` et `sont_presents` testées dans le 1. et mesurez leur vitesse d'exécution avec la commande magique `%timeit`.\n",
    "\n",
    "</div>"
   ]
  },
  {
   "cell_type": "markdown",
   "metadata": {},
   "source": [
    "<div style=\"font-size:1.2em;border-left:10px solid #aaa;border-bottom:10px solid #aaa;padding:10px;\">\n",
    "    \n",
    "2.2.2. Comptez le nombres d'\"opérations\" effectuées par chacune d'elles sur un exemple précis, puis mettez ces nombres en perspective avec les résultats du 2.2.1.\n",
    "</div>"
   ]
  },
  {
   "cell_type": "markdown",
   "metadata": {},
   "source": [
    "<div style=\"font-size:1.2em;border-left:10px solid #aaa;border-bottom:10px solid #aaa;padding:10px;\">\n",
    "  \n",
    "2.2.3. Essayez de définir la complexité en temps d'exécution de ces algorithmes.\n",
    "\n",
    "</div>"
   ]
  },
  {
   "cell_type": "code",
   "execution_count": null,
   "metadata": {},
   "outputs": [],
   "source": []
  },
  {
   "cell_type": "code",
   "execution_count": null,
   "metadata": {},
   "outputs": [],
   "source": []
  },
  {
   "cell_type": "code",
   "execution_count": null,
   "metadata": {},
   "outputs": [],
   "source": []
  },
  {
   "cell_type": "code",
   "execution_count": null,
   "metadata": {},
   "outputs": [],
   "source": []
  }
 ],
 "metadata": {
  "kernelspec": {
   "display_name": "Python 3",
   "language": "python",
   "name": "python3"
  },
  "language_info": {
   "codemirror_mode": {
    "name": "ipython",
    "version": 3
   },
   "file_extension": ".py",
   "mimetype": "text/x-python",
   "name": "python",
   "nbconvert_exporter": "python",
   "pygments_lexer": "ipython3",
   "version": "3.7.3"
  },
  "varInspector": {
   "cols": {
    "lenName": 16,
    "lenType": 16,
    "lenVar": 40
   },
   "kernels_config": {
    "python": {
     "delete_cmd_postfix": "",
     "delete_cmd_prefix": "del ",
     "library": "var_list.py",
     "varRefreshCmd": "print(var_dic_list())"
    },
    "r": {
     "delete_cmd_postfix": ") ",
     "delete_cmd_prefix": "rm(",
     "library": "var_list.r",
     "varRefreshCmd": "cat(var_dic_list()) "
    }
   },
   "types_to_exclude": [
    "module",
    "function",
    "builtin_function_or_method",
    "instance",
    "_Feature"
   ],
   "window_display": false
  }
 },
 "nbformat": 4,
 "nbformat_minor": 2
}
