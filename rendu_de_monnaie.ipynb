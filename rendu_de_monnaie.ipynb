{
 "cells": [
  {
   "cell_type": "code",
   "execution_count": 2,
   "metadata": {},
   "outputs": [],
   "source": [
    "import doctest #permet d'automatiser des tests unitaire"
   ]
  },
  {
   "cell_type": "markdown",
   "metadata": {},
   "source": [
    "# Rendu de monnaie\n",
    "\n",
    "### Systeme de monnaie\n",
    "\n",
    "*on appellera \"pièces\" aussi bien les véritables pièces que les billets*\n",
    "\n",
    "Dans le système monétaire de la zone euro, si on se limite aux sommes entières (pas de centimes) les pièces prennent pour valeurs 1, 2, 5, 10, 20, 50, 100, 200 et 500 euros . On dit que le système de monnaie peut être représenté par la liste  \n",
    "```\n",
    "ensemble_pièces_euro = [1, 2, 5, 10, 20, 50, 100, 200, 500]\n",
    "```\n",
    "Néanmoins on pourrait considérer d'autres ensembles de monnaie. Par exemple la liste  \n",
    "```\n",
    "ensemble_pièces_farfelu = [1, 3, 6, 12, 24, 30]\n",
    "```\n",
    "\n",
    "### Exemple avec une somme à rendre de 49\n",
    "Supposons maintenant qu'on doive rendre 49 euros de monnaie. Quelles pièces peuvent être rendues ? La réponse n'est pas unique.  \n",
    "\n",
    "- Avec `ensemble_pièces_euro` : deux pièces de 20, 1 pièce de 5 et deux pièces de 2 conviennent. Mais quarante-neuf pièces de 1 conviennent aussi.  \n",
    "\n",
    "\n",
    "- Avec `ensemble_pièces_farfelu` : une pièce de 30, une pièce de 12, une pièce de 6 et une pièce de 1 conviennent. Mais une pièce de 10 et treize pièces de 3 conviennent également.\n",
    "\n",
    "**Remarque :** Dans tout ce notebook, on suppose que pour rendre la monnaie on dispose d'une \"caisse\" contenant un nombre infini de chacune des pièces du système de monnaie choisi.\n",
    "\n",
    "### Minimiser le nombre de pièces à rendre\n",
    "\n",
    "Si on souhaite maintenant rendre la monnaie `somme_a_rendre = 49` **avec un minimum de pièces**, on peut démontrer que :\n",
    "- pour `ensemble_pièces_euro`, la meilleure solution pour rendre 49 est `liste_rendu = [20, 20, 5, 2, 2]`.  \n",
    "\n",
    "\n",
    "- pour `ensemble_pièces_farfelu`, la meilleure solution est `liste_rendu = [24, 24, 1]`.\n",
    "\n",
    "\n",
    "### Définition du problème du rendu de monnaie : rendre la monnaie avec le minimum de pièces\n",
    "\n",
    "Etant donné un système de monnaie à valeurs entières (\\*) et une somme entière à rendre, on appelle problème du rendu de monnaie le problème qui consiste à **rendre la monnaie avec le moins de pièces possibles**.\n",
    "\n",
    "\n",
    "(\\*) *on suppose aussi que le système de monnaie contient la pièce 1 pour être certain de pouvoir rendre la monnaie dans tous les cas*"
   ]
  },
  {
   "cell_type": "markdown",
   "metadata": {},
   "source": [
    "<div class = \"alert alert-danger\">\n",
    "\n",
    "### Synthèse du vocabulaire et des notations utilisées dans la suite du notebook\n",
    "\n",
    "Dans la suite nous n'utiliserons que les deux systèmes de monnaie et nous appelerons donc systématiquement :  \n",
    "\n",
    "- `ensemble_pièces_euro` la liste d'**entiers** `[1, 2, 5, 10, 20, 50, 100, 200, 500]`,\n",
    "- `ensemble_pièces_farfelu` la liste d'**entiers** `[1, 3, 6, 12, 24, 30]`,\n",
    "- `somme_a_rendre` le montant **entier** de la somme qui doit être rendue (ci-dessus égale à 49),\n",
    "- `liste_rendu` la liste des pièces qui vont être rendues (si on s'y prend mal, `liste_rendu` peut utiliser plus de pièces que le minimum possible)."
   ]
  },
  {
   "cell_type": "markdown",
   "metadata": {},
   "source": [
    "<div class = \"alert alert-info\">  \n",
    "\n",
    "### Pour vérifier si on a bien compris\n",
    "\n",
    "**Question :**\n",
    "\n",
    "Pour le systeme `ensemble_pièces_euro` et pour `somme_a_rendre = 48`, trouver :  \n",
    "    \n",
    "- un rendu de monnaie `liste_rendu` utilisant selon vous le moins de pièces possibles,\n",
    "- un rendu de monnaie `liste_rendu` utilisant plus de pièces que le minimum,\n",
    "- laquelle des deux réponses est appelée \"la meilleure solution\" ?\n",
    "\n",
    "**Question :**\n",
    "\n",
    "Pour le systeme `ensemble_pièces_farfelu` et pour `somme_a_rendre = 48`, trouver :  \n",
    "    \n",
    "- un rendu de monnaie `liste_rendu` utilisant selon vous le moins de pièces possibles,\n",
    "- un rendu de monnaie `liste_rendu` utilisant plus de pièces que le minimum,\n",
    "- laquelle des deux réponses est appelée \"la meilleure solution\" ?\n",
    "    "
   ]
  },
  {
   "cell_type": "markdown",
   "metadata": {},
   "source": [
    "# L'algorithme naturel du rendu de monnaie est un algorithme glouton"
   ]
  },
  {
   "cell_type": "markdown",
   "metadata": {},
   "source": [
    "<div class = \"alert alert-info\">  \n",
    "    \n",
    "    \n",
    "**Questions :**  \n",
    "    \n",
    "Dans le problème du rendu de monnaie :  \n",
    "    \n",
    "    \n",
    "- Où doit-on sélectionner les pièces ?\n",
    "- Quelle contrainte doit être vérifiée pour chaque pièce retenus ?\n",
    "- Quelle est la grandeur que l'on cherche à optimiser ?"
   ]
  },
  {
   "cell_type": "markdown",
   "metadata": {},
   "source": [
    "Pour rendre la monnaie la méthode que tout le monde utilise est la suivante :\n",
    "```\n",
    "liste_rendu = liste vide\n",
    "Tant que somme_a_rendre > 0:\n",
    "    - choisir la plus grande pièce de systeme_monnaie inférieure à somme_a_rendre\n",
    "    - ranger cette pièce dans liste_rendu\n",
    "    - diminuer somme_a_rendre de la valeur de la pièce\n",
    "```"
   ]
  },
  {
   "cell_type": "markdown",
   "metadata": {},
   "source": [
    "<div class = \"alert alert-info\">  \n",
    "\n",
    "\n",
    "**Question :**\n",
    "\n",
    "\n",
    "Quelle est, à chaque étape, la règle de choix ?"
   ]
  },
  {
   "cell_type": "markdown",
   "metadata": {},
   "source": [
    "<div class = \"alert alert-danger\">\n",
    "\n",
    "### Conclusion  \n",
    "\n",
    "\n",
    "L'algorithme ci-dessus, appelé \"algorithme du rendu de monnaie\" est bien un algorithme glouton."
   ]
  },
  {
   "cell_type": "markdown",
   "metadata": {},
   "source": [
    "# Programmation version 1"
   ]
  },
  {
   "cell_type": "markdown",
   "metadata": {},
   "source": [
    "<div class = \"alert alert-info\">  \n",
    "\n",
    "\n",
    "**Question :**\n",
    "\n",
    "\n",
    "Programmer une fonction `plus_grande_piece_possible` qui prend en paramètre :  \n",
    "    \n",
    "- une liste d'entiers strictement positifs `ensemble_pièces` qui contient au moins la valeur 1\n",
    "- un nombre entier `somme` strictement supérieur à 0\n",
    "    \n",
    "et renvoie la plus grande valeur `piece` présente dans `ensemble_pièces` qui est inférieure ou égale à `somme`.\n"
   ]
  },
  {
   "cell_type": "code",
   "execution_count": null,
   "metadata": {},
   "outputs": [],
   "source": [
    "ensemble_monnaie_euro = [1, 2, 5, 10, 20, 50, 100, 200, 500]\n",
    "ensemble_monnaie_farfelu = [1, 3, 6, 12, 24, 30]\n",
    "\n",
    "\n",
    "def plus_grande_piece_possible(ensemble_monnaie, somme):\n",
    "    \"\"\"Renvoie la plus grande valeur de la liste ensemble_monnaie inférieure ou égale à somme\n",
    "    >>> plus_grande_piece_possible(ensemble_monnaie_euro, 23)\n",
    "    20\n",
    "    >>> plus_grande_piece_possible(ensemble_monnaie_euro, 259)\n",
    "    200\n",
    "    >>> plus_grande_piece_possible(ensemble_monnaie_euro, 1)\n",
    "    1\n",
    "    >>> plus_grande_piece_possible(ensemble_monnaie_farfelu, 23)\n",
    "    12\n",
    "    >>> plus_grande_piece_possible(ensemble_monnaie_farfelu, 200)\n",
    "    30\n",
    "    >>> plus_grande_piece_possible(ensemble_monnaie_farfelu, 1)\n",
    "    1\"\"\"\n",
    "    #code à compléter\n",
    "    \n",
    "    \n",
    "    return pièce\n",
    "doctest.run_docstring_examples(plus_grande_piece_possible, globals())    "
   ]
  },
  {
   "cell_type": "markdown",
   "metadata": {},
   "source": [
    "<div class = \"alert alert-info\">  \n",
    "\n",
    "\n",
    "**Question :**\n",
    "\n",
    "\n",
    "En utilisant la fonction `plus_grande_piece_possible` définis ci-dessus, compléter le code de la fonction `rendre monnaie` qui prend en paramètre :  \n",
    "    \n",
    "- un tableau d'entiers strictement positifs `ensemble_monnaie` qui contient au moins la valeur 1\n",
    "- un nombre entier `somme_a_rendre` strictement supérieur à 0\n",
    "    \n",
    "et renvoie la liste `liste_rendu` obtenue par l'algorithme du rendu de monnaie sur `somme_a_rendre`.   \n",
    "    \n",
    "    \n",
    "On rappelle que pour ajouter un élément `elt` à une liste `L` on utilise l'instruction `L.append(elt)`."
   ]
  },
  {
   "cell_type": "code",
   "execution_count": null,
   "metadata": {},
   "outputs": [],
   "source": [
    "ensemble_monnaie_euro = [1, 2, 5, 10, 20, 50, 100, 200, 500]\n",
    "ensemble_monnaie_farfelu = [1, 3, 6, 12, 24, 30]\n",
    "\n",
    "\n",
    "def rendre_monnaie(ensemble_monnaie, somme_a_rendre):\n",
    "    \"\"\"Renvoie la liste des pièces rendues\n",
    "    >>> rendre_monnaie(ensemble_monnaie_euro, 23)\n",
    "    [20, 2, 1]\n",
    "    >>> rendre_monnaie(ensemble_monnaie_euro, 259)\n",
    "    [200, 50, 5, 2, 2]\n",
    "    >>> rendre_monnaie(ensemble_monnaie_euro, 9)\n",
    "    [5, 2, 2]\n",
    "    >>> rendre_monnaie(ensemble_monnaie_euro, 1)\n",
    "    [1]\n",
    "    >>> rendre_monnaie(ensemble_monnaie_farfelu, 23)\n",
    "    [12, 6, 3, 1, 1]\n",
    "    >>> rendre_monnaie(ensemble_monnaie_farfelu, 259)\n",
    "    [30, 30, 30, 30, 30, 30, 30, 30, 12, 6, 1]\n",
    "    >>> rendre_monnaie(ensemble_monnaie_farfelu, 9)\n",
    "    [6, 3]\n",
    "    >>> rendre_monnaie(ensemble_monnaie_farfelu, 1)\n",
    "    [1]\"\"\"\n",
    "    liste_rendu = []\n",
    "    #code à compléter\n",
    "    \n",
    "    \n",
    "    return liste_rendu\n",
    "\n",
    "doctest.run_docstring_examples(rendre_monnaie, globals())    "
   ]
  },
  {
   "cell_type": "markdown",
   "metadata": {},
   "source": [
    "<div class = \"alert alert-info\">  \n",
    "\n",
    "\n",
    "**Questions :**\n",
    "\n",
    "\n",
    "1) Avec le système `ensemble_monnaie_farfelu`, donner la `liste_rendu` renvoyée par l'algorithme du rendu de monnaie pour chacune des `somme_a_rendre` ci-dessous :  \n",
    "\n",
    "- 48\n",
    "- 49\n",
    "- 50\n",
    "- 51\n",
    "- 52\n",
    "- 53\n",
    "- 54\n",
    "\n",
    "2) Montrer que dans les six premiers cas il existe une meilleure solution que celle renvoyée par l'algorithme (qui utilise une pièce de moins).  \n",
    "\n",
    "\n",
    "3) Pour votre culture générale, sachez :  \n",
    "    \n",
    "- qu'avec `ensemble_monnaie_euro`, la `liste_rendu` renvoyée par l'algorithme du rendu de monnaie est toujours la meilleure solution : on dit que le système de monnaie est *canonique*.  \n",
    "    \n",
    "    \n",
    "- qu'avec `ensemble_monnaie_farfelu`, ce n'est pas le cas : on dit que le systeme de monnaie n'est *pas canonique*.\n",
    "\n",
    "   \n",
    "\n"
   ]
  },
  {
   "cell_type": "markdown",
   "metadata": {},
   "source": [
    "# Programmation version 2 (facultatif)"
   ]
  },
  {
   "cell_type": "markdown",
   "metadata": {},
   "source": [
    "<div class = \"alert alert-info\">  \n",
    "\n",
    "\n",
    "**Question :**\n",
    "\n",
    "Que doit vérifier la liste `ensemble_monnaie` pour que l'algorithme remplisse son rôle ?\n",
    "\n",
    "Essayer de comprendre la version 2 ci-dessous de l'algorithme du rendu de monnaie afin d'expliquer pourquoi cette variante est plus efficace que la version 1."
   ]
  },
  {
   "cell_type": "code",
   "execution_count": 4,
   "metadata": {},
   "outputs": [],
   "source": [
    "ensemble_monnaie_euro = [1, 2, 5, 10, 20, 50, 100, 200, 500]\n",
    "ensemble_monnaie_farfelu = [1, 3, 6, 12, 24, 30]\n",
    "\n",
    "\n",
    "def rendre_monnaie_V2(ensemble_monnaie, somme_a_rendre):\n",
    "    \"\"\"Renvoie la liste des pièces rendues\n",
    "    >>> rendre_monnaie_V2(ensemble_monnaie_euro, 23)\n",
    "    [20, 2, 1]\n",
    "    >>> rendre_monnaie_V2(ensemble_monnaie_euro, 259)\n",
    "    [200, 50, 5, 2, 2]\n",
    "    >>> rendre_monnaie_V2(ensemble_monnaie_euro, 9)\n",
    "    [5, 2, 2]\n",
    "    >>> rendre_monnaie_V2(ensemble_monnaie_euro, 1)\n",
    "    [1]\n",
    "    >>> rendre_monnaie_V2(ensemble_monnaie_farfelu, 23)\n",
    "    [12, 6, 3, 1, 1]\n",
    "    >>> rendre_monnaie_V2(ensemble_monnaie_farfelu, 259)\n",
    "    [30, 30, 30, 30, 30, 30, 30, 30, 12, 6, 1]\n",
    "    >>> rendre_monnaie_V2(ensemble_monnaie_farfelu, 9)\n",
    "    [6, 3]\n",
    "    >>> rendre_monnaie_V2(ensemble_monnaie_farfelu, 1)\n",
    "    [1]\"\"\"\n",
    "    liste_rendu = []\n",
    "    indice_plus_grande_piece = len(ensemble_monnaie)-1\n",
    "    \n",
    "    while somme_a_rendre > 0:\n",
    "        pièce = ensemble_monnaie[indice_plus_grande_piece]\n",
    "        if pièce <= somme_a_rendre:\n",
    "            liste_rendu.append(pièce)\n",
    "            somme_a_rendre = somme_a_rendre - pièce\n",
    "        else:\n",
    "            indice_plus_grande_piece = indice_plus_grande_piece - 1\n",
    "    return liste_rendu\n",
    "\n",
    "doctest.run_docstring_examples(rendre_monnaie_V2, globals())    "
   ]
  },
  {
   "cell_type": "markdown",
   "metadata": {},
   "source": [
    "<div class = \"alert alert-info\">  \n",
    "\n",
    "Comparer les vitesses d'exécution des deux fonctions"
   ]
  },
  {
   "cell_type": "code",
   "execution_count": null,
   "metadata": {},
   "outputs": [],
   "source": [
    "%timeit -n 1000 rendre_monnaie(ensemble_monnaie_euro, 259)\n",
    "%timeit -n 1000 rendre_monnaie_V2(ensemble_monnaie_euro, 259)"
   ]
  }
 ],
 "metadata": {
  "kernelspec": {
   "display_name": "Python 3",
   "language": "python",
   "name": "python3"
  },
  "language_info": {
   "codemirror_mode": {
    "name": "ipython",
    "version": 3
   },
   "file_extension": ".py",
   "mimetype": "text/x-python",
   "name": "python",
   "nbconvert_exporter": "python",
   "pygments_lexer": "ipython3",
   "version": "3.7.3"
  },
  "varInspector": {
   "cols": {
    "lenName": 16,
    "lenType": 16,
    "lenVar": 40
   },
   "kernels_config": {
    "python": {
     "delete_cmd_postfix": "",
     "delete_cmd_prefix": "del ",
     "library": "var_list.py",
     "varRefreshCmd": "print(var_dic_list())"
    },
    "r": {
     "delete_cmd_postfix": ") ",
     "delete_cmd_prefix": "rm(",
     "library": "var_list.r",
     "varRefreshCmd": "cat(var_dic_list()) "
    }
   },
   "types_to_exclude": [
    "module",
    "function",
    "builtin_function_or_method",
    "instance",
    "_Feature"
   ],
   "window_display": false
  }
 },
 "nbformat": 4,
 "nbformat_minor": 4
}
