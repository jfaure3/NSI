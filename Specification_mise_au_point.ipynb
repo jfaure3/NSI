{
 "cells": [
  {
   "cell_type": "markdown",
   "metadata": {},
   "source": [
    "# Quelques méthodes Agile"
   ]
  },
  {
   "cell_type": "markdown",
   "metadata": {},
   "source": [
    "## XP : Extreme Programming \n",
    ">Intégration en continu, tests en continu, on n'apporte que des améliorations\n"
   ]
  },
  {
   "cell_type": "markdown",
   "metadata": {},
   "source": [
    "\n",
    "### Test Driven Developpement (TDD) : on pense les tests unitaires en premier\n",
    "\n",
    "> On écrit un test pour confronter une réalisation à sa spécification. Le test définit un critère d'arrêt (état ou sorties à l'issue de l'exécution) et permet de statuer sur le succès ou sur l'échec d'une vérification. Grâce à la spécification, on est en mesure de faire correspondre un état d'entrée donné à un résultat ou à une sortie. Le test permet de vérifier que la relation d'entrée / sortie donnée par la spécification est bel et bien réalisée. \n",
    "\n",
    "**Les tests unitaires permettent de trouver les erreurs rapidement**\n",
    "> La méthode **XP** préconise d'écrire les tests en même temps, ou même avant la fonction à tester. Ceci permet de définir précisément l'interface du module à développer. Les tests sont exécutés durant tout le développement, permettant de visualiser si le code fraîchement écrit correspond au besoin.\n",
    "\n",
    "**Sécurisent la maintenance**\n",
    "> Lors d'une modification d'un programme, les tests unitaires signalent les éventuelles régressions. En effet, certains tests peuvent échouer à la suite d'une modification, il faut donc soit réécrire le test pour le faire correspondre aux nouvelles attentes, soit corriger l'erreur se situant dans le code.\n",
    "\n",
    "**Documentent le code**\n",
    "> Les tests unitaires peuvent servir de complément à l'API (interface de programmation d'application), il est très utile de lire les tests pour comprendre comment s'utilise une méthode. De plus, il est possible que la documentation ne soit plus à jour, mais les tests eux correspondent à la réalité de l'application. \n",
    "\n",
    "### Pair programming\n",
    ">Un clavier pour deux, celui qui l'a code, l'autre réfléchit. On échange les rôle toutes les demies-heures par exemple.\n",
    "\n"
   ]
  },
  {
   "cell_type": "markdown",
   "metadata": {},
   "source": [
    "## Scrum (mêlée) s'organise autour"
   ]
  },
  {
   "cell_type": "markdown",
   "metadata": {},
   "source": [
    "\n",
    "**des sprints**\n",
    ">organisation mise en oeuvre pour livrer chaque élément du produit.\n",
    "\n",
    "**des tâches** \n",
    ">décrites dans des user stories (en tant que : qui, je veux : quoi, afin de : pour) traduites en besoins élémentaires sur des post-it collés sur un tableau : \n",
    "\n",
    "| stories | to do | en cours | test | done |\n",
    "| ---     | ---   | ---      | ---  | ---  |\n",
    "| ... | ☐☐☐☐ | ☐ |  ☐| |\n",
    "| ... | ☐☐ | ☐ |  ☐| ☐| ☐☐|\n",
    "| ... | ☐  | ☐ |  ☐|☐☐ | ☐☐☐ |\n",
    "\n",
    "**des daily scrums**\n",
    ">réunions quotidiennes de 15 min où l'on affiche l'avancement de chaque tâche sur un tableau blanc. Chaque membre aborde ce qu'il a réalisé la veille, ce qu'il compte réaliser le jour même pour atteindre l'objet du sprint, les obstacles qui empêchent l'équipe d'atteindre le but du sprint.\n",
    "\n",
    "**Voir la [Vidéo](https://youtu.be/oheekef7oJk)**"
   ]
  },
  {
   "cell_type": "markdown",
   "metadata": {},
   "source": [
    "# Tests unitaires"
   ]
  },
  {
   "cell_type": "markdown",
   "metadata": {},
   "source": [
    "## Les messages de l'interpréteur Python, analyse d'erreurs"
   ]
  },
  {
   "cell_type": "markdown",
   "metadata": {},
   "source": [
    "<div style=\"background-color:#FFa0a0\"> \n",
    "    \n",
    ">Exécuter le code des cellules suivantes. Analyser les erreurs avec les indications de l'interpréteur s'il y en a.\n",
    "</div>"
   ]
  },
  {
   "cell_type": "code",
   "execution_count": null,
   "metadata": {},
   "outputs": [],
   "source": [
    "1 - * 2"
   ]
  },
  {
   "cell_type": "code",
   "execution_count": null,
   "metadata": {},
   "outputs": [],
   "source": [
    "2 / (3 - 3)"
   ]
  },
  {
   "cell_type": "code",
   "execution_count": null,
   "metadata": {},
   "outputs": [],
   "source": [
    "toto + 1"
   ]
  },
  {
   "cell_type": "code",
   "execution_count": null,
   "metadata": {},
   "outputs": [],
   "source": [
    "3 = 3"
   ]
  },
  {
   "cell_type": "code",
   "execution_count": null,
   "metadata": {},
   "outputs": [],
   "source": [
    "'2' + 3"
   ]
  },
  {
   "cell_type": "code",
   "execution_count": null,
   "metadata": {},
   "outputs": [],
   "source": [
    "1,2 * 3"
   ]
  },
  {
   "cell_type": "code",
   "execution_count": null,
   "metadata": {},
   "outputs": [],
   "source": [
    "1,2 + 3,4"
   ]
  },
  {
   "cell_type": "code",
   "execution_count": null,
   "metadata": {},
   "outputs": [],
   "source": [
    "0.1 * 3 == 0.3"
   ]
  },
  {
   "cell_type": "code",
   "execution_count": null,
   "metadata": {},
   "outputs": [],
   "source": [
    "def = 3"
   ]
  },
  {
   "cell_type": "code",
   "execution_count": null,
   "metadata": {},
   "outputs": [],
   "source": [
    "1jour = 2"
   ]
  },
  {
   "cell_type": "markdown",
   "metadata": {},
   "source": [
    "## Les tests unitaires avec la bibliothèque `doctest`\n",
    ">L'entête d'une fonction est très importante : \n",
    ">- c'est une chaîne de caractères entre triple guillemets juste après les \":\"\n",
    ">- elle décrit le comportement de la fonction (on peut y accéder avec la commande `help(ma_fonction)`\n",
    ">- on peut y placer les tests unitaires grace à la bibliothèque `doctest`"
   ]
  },
  {
   "cell_type": "markdown",
   "metadata": {},
   "source": [
    "<div style=\"background-color:#FFa0a0\"> \n",
    "    \n",
    ">Corriger le corps de la fonction pour qu'elle passe les tests unitaires.\n",
    "\n",
    "</div>"
   ]
  },
  {
   "cell_type": "code",
   "execution_count": null,
   "metadata": {},
   "outputs": [],
   "source": [
    "import doctest #permet d'automatiser des tests unitaires\n",
    "def est_premier(n):\n",
    "    \"\"\"Renvoie si n est premier\n",
    "    >>> est_premier(0)\n",
    "    False\n",
    "    >>> est_premier(1)\n",
    "    False\n",
    "    >>> est_premier(2)\n",
    "    False\n",
    "    >>> est_premier(13)\n",
    "    True\n",
    "    >>> est_premier(12)\n",
    "    False\"\"\"\n",
    "    for k in range(2, n):\n",
    "        if n % k == 0: return False\n",
    "    return True\n",
    "doctest.run_docstring_examples(est_premier, globals())"
   ]
  },
  {
   "cell_type": "markdown",
   "metadata": {},
   "source": [
    "<div style=\"background-color:#FFa0a0\"> \n",
    "    \n",
    ">Compléter le corps des fonctions ci-dessous pour qu'elles passent les tests unitaires.\n",
    "\n",
    "</div>"
   ]
  },
  {
   "cell_type": "code",
   "execution_count": null,
   "metadata": {},
   "outputs": [],
   "source": [
    "def somme_premiers_carrés(n):\n",
    "    \"\"\"renvoie la somme des carrés des n premiers entiers\n",
    "    >>> somme_premiers_carrés(0)\n",
    "    0\n",
    "    >>> somme_premiers_carrés(2)\n",
    "    5\n",
    "    >>> somme_premiers_carrés(1)\n",
    "    1\"\"\"\n",
    "    ...\n",
    "doctest.run_docstring_examples(somme_premiers_carrés, globals())    "
   ]
  },
  {
   "cell_type": "code",
   "execution_count": null,
   "metadata": {},
   "outputs": [],
   "source": [
    "def fibonacci(n):\n",
    "    \"\"\"renvoie le n-ième terme de la suite de Fibonacci\n",
    "    >>> fibonacci(0)\n",
    "    1\n",
    "    >>> fibonacci(1)\n",
    "    1\n",
    "    >>> fibonacci(4)\n",
    "    5\n",
    "    >>> fibonacci(6)\n",
    "    13\"\"\"\n",
    "    ...\n",
    "doctest.run_docstring_examples(fibonacci, globals())    "
   ]
  },
  {
   "cell_type": "code",
   "execution_count": null,
   "metadata": {},
   "outputs": [],
   "source": [
    "def annee_bissextile(annee):\n",
    "    \"\"\"renvoie True si annee est bissextile, False autrement\n",
    "    >>> annee_bissextile(2019)\n",
    "    False\n",
    "    >>> annee_bissextile(2000)\n",
    "    True\n",
    "    >>> annee_bissextile(2020)\n",
    "    True\n",
    "    >>> annee_bissextile(2100)\n",
    "    False\n",
    "    \"\"\"\n",
    "    ...\n",
    "doctest.run_docstring_examples(annee_bissextile, globals())        "
   ]
  },
  {
   "cell_type": "code",
   "execution_count": null,
   "metadata": {},
   "outputs": [],
   "source": [
    "def seuil_depassement(seuil):\n",
    "    \"\"\"renvoie l'indice à partir duquel \n",
    "    la somme des inverses des premiers entiers est supérieure ou égale à seuil\n",
    "    >>> seuil_depassement(1.5)\n",
    "    2\n",
    "    >>> seuil_depassement(2.5)\n",
    "    7\"\"\"\n",
    "    n = 1\n",
    "    s = 0\n",
    "    while s < seuil:\n",
    "        ...\n",
    "    return ...\n",
    "doctest.run_docstring_examples(seuil_depassement, globals())         "
   ]
  },
  {
   "cell_type": "markdown",
   "metadata": {},
   "source": [
    ">Une boucle while peut **diverger**, c'est à dire ne jamais s'arréter. Cela peut être utile, mais si ce n'est pas ce que l'on veut, il faut s'assurer de sa **terminaison**."
   ]
  },
  {
   "cell_type": "markdown",
   "metadata": {},
   "source": [
    "## La programmation par contrat\n",
    ">Ces contrats sont formalisés sous forme de règles appelées **assertion**\n",
    ">\n",
    ">Il existe 4 types d'assertions : \n",
    ">- les **préconditions** doivent être vérifiées avant le lancement de la fonction;\n",
    ">- les **postconditions** doivent être vérifiées à la fin de l'exécution de la fonction, elles doivent garantir que le traitement a été réalisé correctement ;\n",
    ">- les **invariants** sont des conditions toujours vraies, elles s'apparentent souvent à des propriétés de récurrence dans des boucles ;\n",
    ">- les **variants** sont des entiers naturels associés à une boucle, leur valeur doit décroître stritement à chaque itérations, garantissant la terminaison.\n",
    "\n",
    "> Une façon de procéder consiste à insérer dans le code de la fonction des instructions du type : \n",
    ">\n",
    ">```assert isinstance(a,int), \"a doit être un entier\"```\n",
    ">\n",
    ">Si a n'est pas un entier, cette instruction génère une `AssertionError`"
   ]
  },
  {
   "cell_type": "markdown",
   "metadata": {},
   "source": [
    "**Division euclidienne d'entiers naturels**\n",
    "\n",
    "Soit $a, b$ deux entiers naturels avec $b\\neq0$\n",
    "\n",
    "Alors il existe un unique couple d'entiers $(q, r)$ tel que \n",
    "$$\\begin{cases}a=bq+r\\\\ 0\\leqslant r < b\\end{cases}$$\n",
    "\n",
    ">Un premier algorithme simple pourrait consister à partir de $a$ puis à enlever à $a$ un certain nombre de fois $b$ pour qu'à la fin on ne puisse plus \"partager\".  "
   ]
  },
  {
   "cell_type": "markdown",
   "metadata": {},
   "source": [
    "### Préconditions sur les arguments"
   ]
  },
  {
   "cell_type": "code",
   "execution_count": null,
   "metadata": {},
   "outputs": [],
   "source": [
    "def div_euclid(a, b):\n",
    "    \"\"\"renvoie le tuple (q, r) pour a et b entiers naturels\n",
    "    >>> div_euclid(14, 3)\n",
    "    (4, 2)\n",
    "    >>> div_euclid(20, 5)\n",
    "    (4, 0)\n",
    "    >>> div_euclid(11,0)\n",
    "    \"\"\"\n",
    "    #Préconditions\n",
    "    assert isinstance(a,int), \"a doit être un entier\"\n",
    "    assert isinstance(b,int), \"b doit être un entier\"\n",
    "    if b == 0:\n",
    "        return None\n",
    "    q, r = 0, a\n",
    "    while r >= b:\n",
    "        q, r = q + 1, r - b\n",
    "    return (q, r)\n",
    "doctest.run_docstring_examples(div_euclid, globals())    "
   ]
  },
  {
   "cell_type": "code",
   "execution_count": null,
   "metadata": {},
   "outputs": [],
   "source": [
    "div_euclid(2.5,4)"
   ]
  },
  {
   "cell_type": "markdown",
   "metadata": {},
   "source": [
    "### Postconditions sur les résultats\n",
    "\n",
    "<div style=\"background-color:#FFa0a0\">\n",
    "    \n",
    ">Exécuter le script ci-dessous puis le corriger\n",
    "\n",
    "</div>"
   ]
  },
  {
   "cell_type": "code",
   "execution_count": null,
   "metadata": {},
   "outputs": [],
   "source": [
    "def div_euclid_2(a, b):\n",
    "    \"\"\"renvoie le tuple (q, r) pour a et b entiers naturels\n",
    "    >>> div_euclid_2(14, 3)\n",
    "    (4, 2)\n",
    "    >>> div_euclid_2(20, 5)\n",
    "    (4, 0)\n",
    "    >>> div_euclid_2(11,0)\n",
    "    \"\"\"\n",
    "    #Préconditions\n",
    "    assert isinstance(a,int), \"a doit être un entier\"\n",
    "    assert isinstance(b,int), \"b doit être un entier\"\n",
    "    if b == 0:\n",
    "        return None\n",
    "    q, r = 0, a\n",
    "    while r >= b:\n",
    "        q, r = q + 2, r - b\n",
    "    #Postconditions\n",
    "    assert a == b * q + r, \"l'égalité de la division n'est pas vérifiée\"\n",
    "    assert 0 <= r < b, \"l'encadrement du reste n'est pas vérifié\"\n",
    "    return (q, r)\n",
    "doctest.run_docstring_examples(div_euclid_2, globals()) "
   ]
  },
  {
   "cell_type": "markdown",
   "metadata": {},
   "source": [
    "### Variant de boucle\n",
    "\n",
    ">Ici la boucle `while` doit s'arréter car `r` est un entier naturel qui est strictement décroissant."
   ]
  },
  {
   "cell_type": "code",
   "execution_count": null,
   "metadata": {},
   "outputs": [],
   "source": [
    "def div_euclid(a, b):\n",
    "    \"\"\"renvoie le tuple (q, r) pour a et b entiers naturels\n",
    "    >>> div_euclid(14, 3)\n",
    "    (4, 2)\n",
    "    >>> div_euclid(20, 5)\n",
    "    (4, 0)\n",
    "    >>> div_euclid(11,0)\n",
    "    \"\"\"\n",
    "    #Préconditions\n",
    "    assert isinstance(a,int), \"a doit être un entier\"\n",
    "    assert isinstance(b,int), \"b doit être un entier\"\n",
    "    if b == 0:\n",
    "        return None\n",
    "    q, r = 0, a\n",
    "    while r >= b:\n",
    "        r_precedent = r\n",
    "        q, r = q + 1, r - b\n",
    "        #Variant\n",
    "        assert r < r_precedent, \"le variant n'est pas satisfait\"\n",
    "    #Postconditions\n",
    "    assert a == b * q + r, \"l'égalité de la division n'est pas vérifiée\"\n",
    "    assert 0 <= r < b, \"l'encadrement du reste n'est pas vérifié\"\n",
    "    return (q, r)\n",
    "doctest.run_docstring_examples(div_euclid, globals())    "
   ]
  },
  {
   "cell_type": "markdown",
   "metadata": {},
   "source": [
    "### Invariant de boucle\n",
    "\n",
    ">Ici l'invariant est l'égalité `a = b * q + r` qui est vérifiée à chaque tour de boucle.\n",
    ">En règle générale c'est un peut plus compliquer de tester l'invariant, on se contente alors d'ajouter un commentaire pour le décrire."
   ]
  },
  {
   "cell_type": "code",
   "execution_count": null,
   "metadata": {},
   "outputs": [],
   "source": [
    "def div_euclid(a, b):\n",
    "    \"\"\"renvoie le tuple (q, r) pour a et b entiers naturels\n",
    "    >>> div_euclid(14, 3)\n",
    "    (4, 2)\n",
    "    >>> div_euclid(20, 5)\n",
    "    (4, 0)\n",
    "    >>> div_euclid(11,0)\n",
    "    \"\"\"\n",
    "    #Préconditions\n",
    "    assert isinstance(a,int), \"a doit être un entier\"\n",
    "    assert isinstance(b,int), \"b doit être un entier\"\n",
    "    if b == 0:\n",
    "        return None\n",
    "    q, r = 0, a\n",
    "    while r >= b:\n",
    "        r_precedent = r\n",
    "        q, r = q + 1, r - b\n",
    "        #Variant\n",
    "        assert r < r_precedent, \"le variant n'est pas satisfait\"\n",
    "        #Invariant\n",
    "        assert a == b * q + r and r >= 0, \"l'invariant n'est pas respecté\"\n",
    "    #Postconditions\n",
    "    assert a == b * q + r, \"l'égalité de la division n'est pas vérifiée\"\n",
    "    assert 0 <= r < b, \"l'encadrement du reste n'est pas vérifié\"\n",
    "    return (q, r)\n",
    "doctest.run_docstring_examples(div_euclid, globals())    "
   ]
  },
  {
   "cell_type": "markdown",
   "metadata": {},
   "source": [
    "<div style=\"background-color:#FFa0a0\">\n",
    "\n",
    "### À vous de jouer\n",
    ">Instumenter cette fonction en définissant les préconditions, postconditions, variants et invariants. Pour l'invariant, une descition en commentaire suffira.\n",
    "</div>"
   ]
  },
  {
   "cell_type": "code",
   "execution_count": null,
   "metadata": {},
   "outputs": [],
   "source": [
    "def recherche_element(el, liste):\n",
    "    \"\"\"retourne si el est dans liste (pas nécessairement triée)\n",
    "    >>> recherche_element(3, [])\n",
    "    False\n",
    "    >>> recherche_element(3, [1,2,3,3,3])\n",
    "    True\n",
    "    >>> recherche_element(1, [1,2,3,6,5,0])\n",
    "    True\n",
    "    >>> recherche_element(0, [1,2,3,6,5,0])\n",
    "    True\n",
    "    >>> recherche_element(4, [1,1,1,2,2,3])\n",
    "    False\"\"\"\n",
    "    n = len(liste)\n",
    "    i = 0\n",
    "    while ( i < n) and (el != liste[i]):\n",
    "        i = i + 1\n",
    "    if i < n:\n",
    "        return True\n",
    "    else:\n",
    "        return False\n",
    "        \n",
    "doctest.run_docstring_examples(recherche_element, globals())"
   ]
  }
 ],
 "metadata": {
  "kernelspec": {
   "display_name": "Python 3",
   "language": "python",
   "name": "python3"
  },
  "language_info": {
   "codemirror_mode": {
    "name": "ipython",
    "version": 3
   },
   "file_extension": ".py",
   "mimetype": "text/x-python",
   "name": "python",
   "nbconvert_exporter": "python",
   "pygments_lexer": "ipython3",
   "version": "3.7.3"
  },
  "varInspector": {
   "cols": {
    "lenName": 16,
    "lenType": 16,
    "lenVar": 40
   },
   "kernels_config": {
    "python": {
     "delete_cmd_postfix": "",
     "delete_cmd_prefix": "del ",
     "library": "var_list.py",
     "varRefreshCmd": "print(var_dic_list())"
    },
    "r": {
     "delete_cmd_postfix": ") ",
     "delete_cmd_prefix": "rm(",
     "library": "var_list.r",
     "varRefreshCmd": "cat(var_dic_list()) "
    }
   },
   "oldHeight": 96.85,
   "position": {
    "height": "118.85px",
    "left": "1478px",
    "right": "20px",
    "top": "120px",
    "width": "355px"
   },
   "types_to_exclude": [
    "module",
    "function",
    "builtin_function_or_method",
    "instance",
    "_Feature"
   ],
   "varInspector_section_display": "block",
   "window_display": false
  }
 },
 "nbformat": 4,
 "nbformat_minor": 2
}
