{
 "cells": [
  {
   "cell_type": "markdown",
   "metadata": {},
   "source": [
    "# Algorithme de recherche par dichotomie"
   ]
  },
  {
   "cell_type": "code",
   "execution_count": null,
   "metadata": {},
   "outputs": [],
   "source": [
    "import doctest #permet d'automatiser des tests unitaires"
   ]
  },
  {
   "cell_type": "markdown",
   "metadata": {},
   "source": [
    "## Recherche naïve\n",
    "### Principe\n",
    "On parcourt la liste pour comparer chaque élément à l'élément recherché"
   ]
  },
  {
   "cell_type": "markdown",
   "metadata": {},
   "source": [
    "**à faire :** compléter la fonction `rech_naive`"
   ]
  },
  {
   "cell_type": "code",
   "execution_count": null,
   "metadata": {},
   "outputs": [],
   "source": [
    "def rech_naive(élément, liste):\n",
    "    \"\"\"Renvoie None si 'élément' n'est pas 'liste', autrement, renvoie son indice\n",
    "    >>> rech_naive(3,[7,6,5,8,2,3,1,9,4])\n",
    "    5\n",
    "    >>> rech_naive(0,[7,6,5,8,2,3,1,9,4])\n",
    "    \"\"\"\n",
    "    \n",
    "    \n",
    "doctest.run_docstring_examples(rech_naive, globals())   "
   ]
  },
  {
   "cell_type": "markdown",
   "metadata": {},
   "source": [
    "## Recherche par dichotomie\n",
    "### Principe\n",
    "La liste étant triée, on regarde si l'élément cherché est plus petit que l'élément central de la liste.\n",
    "\n",
    "Si c'est le cas on reproduit l'opération avec la première moitié de la liste.\n",
    "\n",
    "Ainsi de suite jusqu'à trouver ou non l'élément"
   ]
  },
  {
   "cell_type": "markdown",
   "metadata": {},
   "source": [
    "**à faire :** compléter la fonction `rech_dicho`"
   ]
  },
  {
   "cell_type": "code",
   "execution_count": null,
   "metadata": {},
   "outputs": [],
   "source": [
    "def rech_dicho(élément, liste_triée):\n",
    "    \"\"\"Renvoie None si 'élément' n'est pas 'liste_triée', autrement, renvoie son indice\n",
    "    >>> rech_dicho(1,[1,2,4,5,6,7,8,9])\n",
    "    0\n",
    "    >>> rech_dicho(9,[1,2,4,5,6,7,8,9])\n",
    "    7\n",
    "    >>> rech_dicho(7,[1,2,4,5,6,7,8,9])\n",
    "    5\n",
    "    >>> rech_dicho(3,[1,2,4,5,6,7,8,9])\n",
    "    \"\"\"\n",
    "    \n",
    "    \n",
    "doctest.run_docstring_examples(rech_dicho, globals())   "
   ]
  },
  {
   "cell_type": "markdown",
   "metadata": {},
   "source": [
    "<div class = \"alert alert-info\">  \n",
    "\n",
    "Comparer les vitesses d'exécution des deux fonctions"
   ]
  },
  {
   "cell_type": "code",
   "execution_count": null,
   "metadata": {},
   "outputs": [],
   "source": [
    "%timeit -n 1000 rech_naive(3,[1,2,4,5,6,7,8,9])\n",
    "%timeit -n 1000 rech_dicho(3,[1,2,4,5,6,7,8,9])"
   ]
  }
 ],
 "metadata": {
  "kernelspec": {
   "display_name": "Python 3",
   "language": "python",
   "name": "python3"
  },
  "language_info": {
   "codemirror_mode": {
    "name": "ipython",
    "version": 3
   },
   "file_extension": ".py",
   "mimetype": "text/x-python",
   "name": "python",
   "nbconvert_exporter": "python",
   "pygments_lexer": "ipython3",
   "version": "3.7.3"
  }
 },
 "nbformat": 4,
 "nbformat_minor": 2
}
