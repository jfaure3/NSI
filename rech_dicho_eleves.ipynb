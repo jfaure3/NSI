{
 "cells": [
  {
   "cell_type": "markdown",
   "metadata": {},
   "source": [
    "# Algorithme de recherche par dichotomie"
   ]
  },
  {
   "cell_type": "code",
   "execution_count": 2,
   "metadata": {},
   "outputs": [],
   "source": [
    "import doctest #permet d'automatiser des tests unitaires"
   ]
  },
  {
   "cell_type": "markdown",
   "metadata": {},
   "source": [
    "## Recherche naïve\n",
    "### Principe\n",
    "On parcourt la liste pour comparer chaque élément à l'élément recherché"
   ]
  },
  {
   "cell_type": "markdown",
   "metadata": {},
   "source": [
    "**à faire :** compléter la fonction `rech_naive`"
   ]
  },
  {
   "cell_type": "code",
   "execution_count": 4,
   "metadata": {},
   "outputs": [
    {
     "name": "stdout",
     "output_type": "stream",
     "text": [
      "**********************************************************************\n",
      "File \"__main__\", line 5, in NoName\n",
      "Failed example:\n",
      "    rech_naiv(0,[7,6,5,8,2,3,1,9,4])\n",
      "Expected:\n",
      "    false\n",
      "Got:\n",
      "    False\n"
     ]
    }
   ],
   "source": [
    "def rech_naiv(élément, liste):\n",
    "    \"\"\"Renvoie si 'élément' est dans 'liste'\n",
    "    >>> rech_naiv(3,[7,6,5,8,2,3,1,9,4])\n",
    "    True\n",
    "    >>> rech_naiv(0,[7,6,5,8,2,3,1,9,4])\n",
    "    False\"\"\"\n",
    "    \n",
    "    \n",
    "    return \n",
    "    \n",
    "doctest.run_docstring_examples(rech_naiv, globals())   "
   ]
  },
  {
   "cell_type": "markdown",
   "metadata": {},
   "source": [
    "## Recherche par dichotomie\n",
    "### Principe\n",
    "La liste étant triée, on regarde si l'élément cherché est plus petit que l'élément central de la liste.\n",
    "\n",
    "Si c'est le cas on reproduit l'opération avec la première moitié de la liste.\n",
    "\n",
    "Ainsi de suite jusqu'à trouver ou non l'élément"
   ]
  },
  {
   "cell_type": "markdown",
   "metadata": {},
   "source": [
    "**à faire :** compléter la fonction `rech_dicho`"
   ]
  },
  {
   "cell_type": "code",
   "execution_count": 4,
   "metadata": {},
   "outputs": [
    {
     "name": "stdout",
     "output_type": "stream",
     "text": [
      "**********************************************************************\n",
      "File \"__main__\", line 5, in NoName\n",
      "Failed example:\n",
      "    rech_naiv(0,[7,6,5,8,2,3,1,9,4])\n",
      "Expected:\n",
      "    false\n",
      "Got:\n",
      "    False\n"
     ]
    }
   ],
   "source": [
    "def rech_dicho(élément, liste):\n",
    "    \"\"\"Renvoie si 'élément' est dans 'liste'\n",
    "    >>> rech_dicho(3,[1,2,3,4,5,6,7,8,9])\n",
    "    True\n",
    "    >>> rech_dicho(0,[1,2,3,4,5,6,7,8,9])\n",
    "    False\"\"\"\n",
    "    \n",
    "    \n",
    "    return \n",
    "    \n",
    "doctest.run_docstring_examples(rech_dicho, globals())   "
   ]
  },
  {
   "cell_type": "code",
   "execution_count": null,
   "metadata": {},
   "outputs": [],
   "source": []
  },
  {
   "cell_type": "code",
   "execution_count": null,
   "metadata": {},
   "outputs": [],
   "source": []
  }
 ],
 "metadata": {
  "kernelspec": {
   "display_name": "Python 3",
   "language": "python",
   "name": "python3"
  },
  "language_info": {
   "codemirror_mode": {
    "name": "ipython",
    "version": 3
   },
   "file_extension": ".py",
   "mimetype": "text/x-python",
   "name": "python",
   "nbconvert_exporter": "python",
   "pygments_lexer": "ipython3",
   "version": "3.7.3"
  }
 },
 "nbformat": 4,
 "nbformat_minor": 2
}
